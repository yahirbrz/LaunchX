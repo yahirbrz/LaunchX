{
 "cells": [
  {
   "cell_type": "markdown",
   "metadata": {},
   "source": [
    "## Kata módulo 6\n",
    "### Ejercicio 1"
   ]
  },
  {
   "cell_type": "code",
   "execution_count": 21,
   "metadata": {},
   "outputs": [
    {
     "name": "stdout",
     "output_type": "stream",
     "text": [
      "8 planets in the list\n",
      "Pluton is the last planet\n"
     ]
    }
   ],
   "source": [
    "planets = [\"Mercury\",\"Venus\",\"Earth\",\"Mars\",\"Jupiter\",\"Saturn\",\"Neptune\",\"Uranus\"]\n",
    "\n",
    "print(len(planets),\"planets in the list\")\n",
    "\n",
    "planets.append(\"Pluton\")\n",
    "print(planets[-1] + \" is the last planet\")\n",
    "\n"
   ]
  },
  {
   "cell_type": "markdown",
   "metadata": {},
   "source": [
    "### Ejercicio 2"
   ]
  },
  {
   "cell_type": "code",
   "execution_count": 22,
   "metadata": {},
   "outputs": [
    {
     "name": "stdout",
     "output_type": "stream",
     "text": [
      "Planets closer than Jupiter to the sun: ['Mercury', 'Venus', 'Earth', 'Mars']\n",
      "Planets further than Jupiter to the sun: ['Saturn', 'Neptune']\n"
     ]
    }
   ],
   "source": [
    "# Lista de planetas\n",
    "planets = [\"Mercury\",\"Venus\",\"Earth\",\"Mars\",\"Jupiter\",\"Saturn\",\"Neptune\"]\n",
    "\n",
    "search = input(\"Capture el planeta a buscar (Por favor capitulice su busqueda)\")\n",
    "\n",
    "index = planets.index(search)\n",
    "\n",
    "print(\"Planets closer than \" + search + \" to the sun:\", planets[0:index])\n",
    "print(\"Planets further than \" + search + \" to the sun:\", planets[index + 1:])\n"
   ]
  }
 ],
 "metadata": {
  "interpreter": {
   "hash": "081837b0d89a1a11c7e12cfb777b4296fc9d5cdb4add819a1b66bd9acaab463f"
  },
  "kernelspec": {
   "display_name": "Python 3.10.2 64-bit",
   "name": "python3"
  },
  "language_info": {
   "codemirror_mode": {
    "name": "ipython",
    "version": 3
   },
   "file_extension": ".py",
   "mimetype": "text/x-python",
   "name": "python",
   "nbconvert_exporter": "python",
   "pygments_lexer": "ipython3",
   "version": "3.10.2"
  },
  "orig_nbformat": 4
 },
 "nbformat": 4,
 "nbformat_minor": 2
}
