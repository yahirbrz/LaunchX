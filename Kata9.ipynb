{
 "cells": [
  {
   "cell_type": "markdown",
   "metadata": {},
   "source": [
    "## Kata módulo 9\n",
    "### Ejercicio 1"
   ]
  },
  {
   "cell_type": "code",
   "execution_count": 26,
   "metadata": {},
   "outputs": [
    {
     "name": "stdout",
     "output_type": "stream",
     "text": [
      "Tank 1 on 50% capacity \n",
      "Tank 2 on 60% capacity \n",
      "Tank 3 on 80% capacity \n",
      "Total Average Fuel: 63%\n"
     ]
    }
   ],
   "source": [
    "def fuelReport(tank1, tank2, tank3):\n",
    "    #totalFuel = (tank1 + tank2 + tank3) / 3\n",
    "    totalFuel = averageFuel([tank1, tank2, tank3])\n",
    "    return f\"Tank 1 on {tank1/100:.0%} capacity \\nTank 2 on {tank2/100:.0%} capacity \\nTank 3 on {tank3/100:.0%} capacity \\nTotal Average Fuel: {(totalFuel/100):.0%}\"\n",
    "    #print(f\"Tank 1 on {tank1/100:.0%} capacity \\nTank 2 on {tank2/100:.0%} capacity \\nTank 3 on {tank3/100:.0%} capacity\")\n",
    "\n",
    "def averageFuel(values):\n",
    "    sumFuel = sum(values)\n",
    "    totalParam = len(values)\n",
    "    return sumFuel / totalParam\n",
    "\n",
    "print(fuelReport(50, 60, 80))"
   ]
  },
  {
   "cell_type": "markdown",
   "metadata": {},
   "source": [
    "### Ejercicio 2"
   ]
  },
  {
   "cell_type": "code",
   "execution_count": 30,
   "metadata": {},
   "outputs": [
    {
     "name": "stdout",
     "output_type": "stream",
     "text": [
      "Mission Destination: Mars \n",
      "Total time travel: 30 minutes \n",
      "External tank level 50% \n",
      "Internal tank level: 30% \n",
      "Total fuel level: 40%\n"
     ]
    }
   ],
   "source": [
    "def missionReport(preLaunch, flightTime, destination, externalTank, internalTank):\n",
    "    return f'Mission Destination: {destination} \\nTotal time travel: {preLaunch + flightTime} minutes \\nExternal tank level {externalTank/100:.0%} \\nInternal tank level: {internalTank/100:.0%} \\nTotal fuel level: {((externalTank + internalTank)/2)/100:.0%}'\n",
    "print(missionReport(20, 10, \"Mars\", 50, 30))"
   ]
  },
  {
   "cell_type": "code",
   "execution_count": 33,
   "metadata": {},
   "outputs": [
    {
     "name": "stdout",
     "output_type": "stream",
     "text": [
      "Mission Destination: Mars \n",
      "Total time travel: 110 minutes \n",
      "Total fuel level: 57%\n"
     ]
    }
   ],
   "source": [
    "def missionReport(destination, *minutes, **fuel_reservoirs):\n",
    "    sumFuel = sum(fuel_reservoirs.values())\n",
    "    fuelItems = len(fuel_reservoirs.keys())\n",
    "    return f'Mission Destination: {destination} \\nTotal time travel: {sum(minutes)} minutes \\nTotal fuel level: {(sumFuel/fuelItems)/100:.0%}'\n",
    "\n",
    "print(missionReport(\"Mars\", 20, 10, 80, external = 50, internal = 80, reserve = 40))\n"
   ]
  },
  {
   "cell_type": "code",
   "execution_count": 36,
   "metadata": {},
   "outputs": [
    {
     "name": "stdout",
     "output_type": "stream",
     "text": [
      "Mission Destination: Mars \n",
      "Total time travel: 110\n",
      "external tank level: 50%\n",
      "internal tank level: 80%\n",
      "reserve tank level: 40%\n",
      "Total fuel level: 57%\n"
     ]
    }
   ],
   "source": [
    "def missionReport(destination, *minutes, **fuel_reservoirs):\n",
    "    sumFuel = sum(fuel_reservoirs.values())\n",
    "    fuelItems = len(fuel_reservoirs.keys())\n",
    "    #\\nTotal fuel level: {(sumFuel/fuelItems)/100:.0%}\n",
    "    report = f'Mission Destination: {destination} \\nTotal time travel: {sum(minutes)}'\n",
    "    for tank, fuel in fuel_reservoirs.items():\n",
    "        report += f'\\n{tank} tank level: {fuel/100:.0%}'\n",
    "    report += f'\\nTotal fuel level: {(sumFuel/fuelItems)/100:.0%}'\n",
    "    return report\n",
    "\n",
    "print(missionReport(\"Mars\", 20, 10, 80, external = 50, internal = 80, reserve = 40))"
   ]
  }
 ],
 "metadata": {
  "interpreter": {
   "hash": "081837b0d89a1a11c7e12cfb777b4296fc9d5cdb4add819a1b66bd9acaab463f"
  },
  "kernelspec": {
   "display_name": "Python 3.10.2 64-bit",
   "language": "python",
   "name": "python3"
  },
  "language_info": {
   "codemirror_mode": {
    "name": "ipython",
    "version": 3
   },
   "file_extension": ".py",
   "mimetype": "text/x-python",
   "name": "python",
   "nbconvert_exporter": "python",
   "pygments_lexer": "ipython3",
   "version": "3.10.2"
  },
  "orig_nbformat": 4
 },
 "nbformat": 4,
 "nbformat_minor": 2
}
