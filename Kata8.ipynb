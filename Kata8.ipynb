{
 "cells": [
  {
   "cell_type": "markdown",
   "metadata": {},
   "source": [
    "## Kata módulo 8\n",
    "### Ejercicio 1"
   ]
  },
  {
   "cell_type": "code",
   "execution_count": 6,
   "metadata": {},
   "outputs": [
    {
     "name": "stdout",
     "output_type": "stream",
     "text": [
      "Planet: Mars moons: 2\n",
      "Planet: Earth moons: 1\n",
      "Planet: Earth polar circumference: 6752\n"
     ]
    }
   ],
   "source": [
    "planet = {\n",
    "    'name': 'Mars',\n",
    "    'moons': 2\n",
    "}\n",
    "\n",
    "print(f\"Planet: {planet['name']} moons: {planet['moons']}\".format(planet.get('name'), planet.get('moon')))\n",
    "\n",
    "planet.update({\n",
    "    'name': 'Earth',\n",
    "    'moons': 1\n",
    "})\n",
    "\n",
    "print(f\"Planet: {planet['name']} moons: {planet['moons']}\".format(planet.get('name'), planet.get('moon')))\n",
    "\n",
    "planet['circumference'] = {\n",
    "    'polar': 6752,\n",
    "    'equatorial': 6792\n",
    "}\n",
    "\n",
    "print(f\"Planet: {planet['name']} polar circumference: {planet['circumference']['polar']}\".format(planet.get('name'), planet['circumference'].get('polar')))"
   ]
  },
  {
   "cell_type": "markdown",
   "metadata": {},
   "source": [
    "### Ejercicio 2"
   ]
  },
  {
   "cell_type": "code",
   "execution_count": 19,
   "metadata": {},
   "outputs": [
    {
     "name": "stdout",
     "output_type": "stream",
     "text": [
      "Averge moons: 18.181818181818183\n"
     ]
    }
   ],
   "source": [
    "planetMoons =  {\n",
    "    'mercury': 0,\n",
    "    'venus': 0,\n",
    "    'earth': 1,\n",
    "    'mars': 2,\n",
    "    'jupiter': 79,\n",
    "    'saturn': 82,\n",
    "    'uranus': 27,\n",
    "    'pluto': 5,\n",
    "    'haumea': 2,\n",
    "    'makemake': 1,\n",
    "    'eris': 1\n",
    "}\n",
    "\n",
    "moons = planetMoons.values()\n",
    "planets = len(moons)\n",
    "\n",
    "totalMoons = 0\n",
    "for moon in moons:\n",
    "    totalMoons += moon\n",
    "\n",
    "print(f\"Averge moons: {totalMoons / planets}\")"
   ]
  }
 ],
 "metadata": {
  "interpreter": {
   "hash": "081837b0d89a1a11c7e12cfb777b4296fc9d5cdb4add819a1b66bd9acaab463f"
  },
  "kernelspec": {
   "display_name": "Python 3.10.2 64-bit",
   "language": "python",
   "name": "python3"
  },
  "language_info": {
   "codemirror_mode": {
    "name": "ipython",
    "version": 3
   },
   "file_extension": ".py",
   "mimetype": "text/x-python",
   "name": "python",
   "nbconvert_exporter": "python",
   "pygments_lexer": "ipython3",
   "version": "3.10.2"
  },
  "orig_nbformat": 4
 },
 "nbformat": 4,
 "nbformat_minor": 2
}
