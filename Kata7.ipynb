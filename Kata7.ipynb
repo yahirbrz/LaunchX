{
 "cells": [
  {
   "cell_type": "markdown",
   "metadata": {},
   "source": [
    "## Kata módulo 7\n",
    "### Ejercicio 1"
   ]
  },
  {
   "cell_type": "code",
   "execution_count": 1,
   "metadata": {},
   "outputs": [],
   "source": [
    "planets = []\n",
    "newPlanet = input(\"Capture el nombre del planeta: \")\n",
    "\n",
    "while(newPlanet != \"Done\"):\n",
    "    if(newPlanet):\n",
    "        planets.append(newPlanet)\n",
    "    newPlanet = input(\"Capture un nuevo planeta o escriba \"\"Done\"\" para terminar\")\n"
   ]
  },
  {
   "cell_type": "markdown",
   "metadata": {},
   "source": [
    "### Ejercicio 2"
   ]
  },
  {
   "cell_type": "code",
   "execution_count": 2,
   "metadata": {},
   "outputs": [
    {
     "name": "stdout",
     "output_type": "stream",
     "text": [
      "Jupiter\n",
      "Saturn\n",
      "Venus\n",
      "Mars\n",
      "Earth\n",
      "Uranus\n"
     ]
    }
   ],
   "source": [
    "planets = []\n",
    "newPlanet = input(\"Capture el nombre del planeta: \")\n",
    "\n",
    "while(newPlanet != \"Done\"):\n",
    "    if(newPlanet):\n",
    "        planets.append(newPlanet)\n",
    "    newPlanet = input(\"Capture un nuevo planeta o escriba \"\"Done\"\" para terminar\")\n",
    "\n",
    "for planet in planets:\n",
    "    print(planet)"
   ]
  }
 ],
 "metadata": {
  "interpreter": {
   "hash": "081837b0d89a1a11c7e12cfb777b4296fc9d5cdb4add819a1b66bd9acaab463f"
  },
  "kernelspec": {
   "display_name": "Python 3.10.2 64-bit",
   "language": "python",
   "name": "python3"
  },
  "language_info": {
   "codemirror_mode": {
    "name": "ipython",
    "version": 3
   },
   "file_extension": ".py",
   "mimetype": "text/x-python",
   "name": "python",
   "nbconvert_exporter": "python",
   "pygments_lexer": "ipython3",
   "version": "3.10.2"
  },
  "orig_nbformat": 4
 },
 "nbformat": 4,
 "nbformat_minor": 2
}
