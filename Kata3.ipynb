{
 "cells": [
  {
   "cell_type": "code",
   "execution_count": 4,
   "source": [
    "velocidadAsteroide = 49\r\n",
    "if velocidadAsteroide > 25:\r\n",
    "    print(\"El asteroide se aproxima a una velocidad superior a 25 km/s!\")\r\n",
    "else:\r\n",
    "    print(\"El asteroide se aproxima a una velocidad inferior a 26 km/s\")\r\n"
   ],
   "outputs": [
    {
     "output_type": "stream",
     "name": "stdout",
     "text": [
      "El asteroide se aproxima a una velocidad superior a 25km!\n"
     ]
    }
   ],
   "metadata": {}
  },
  {
   "cell_type": "code",
   "execution_count": 5,
   "source": [
    "velocidadAsteroide = 19\r\n",
    "if velocidadAsteroide >= 20:\r\n",
    "    print(\"Un asteroide se dirige a la tierra a una velocidad de \" + str(velocidadAsteroide) + \" km/s!\")\r\n",
    "elif velocidadAsteroide >= 20:\r\n",
    "    print(\"Se puede ver el ratro de luz del asteroide!\")\r\n",
    "else:\r\n",
    "    print(\"El asteroide no es visible\")"
   ],
   "outputs": [
    {
     "output_type": "stream",
     "name": "stdout",
     "text": [
      "El asteroide no es visible\n"
     ]
    }
   ],
   "metadata": {}
  },
  {
   "cell_type": "markdown",
   "source": [
    "# Uso de operadores lógicos"
   ],
   "metadata": {}
  },
  {
   "cell_type": "code",
   "execution_count": 6,
   "source": [
    "velocidadAsteroide = 25\r\n",
    "dimension = 50\r\n",
    "\r\n",
    "if velocidadAsteroide > 25 and dimension > 25:\r\n",
    "    print(\"Un asteroide de \" + str(dimension) + \" metros se aproxima a la tierra a una velocidad superior a 25 km/2!\")\r\n",
    "elif velocidadAsteroide >= 20:\r\n",
    "    print(\"Se puede ver un ratro de luz de un asteroide!\")\r\n",
    "elif dimension < 25:\r\n",
    "    print(\"El asteroide se quemará dentro de la atmósfera\")\r\n",
    "else:\r\n",
    "    print(\"Ningun riesgo potencial\")"
   ],
   "outputs": [
    {
     "output_type": "stream",
     "name": "stdout",
     "text": [
      "Se puede ver un ratro de luz de un asteroide!\n"
     ]
    }
   ],
   "metadata": {}
  }
 ],
 "metadata": {
  "orig_nbformat": 4,
  "language_info": {
   "name": "python",
   "version": "3.10.2",
   "mimetype": "text/x-python",
   "codemirror_mode": {
    "name": "ipython",
    "version": 3
   },
   "pygments_lexer": "ipython3",
   "nbconvert_exporter": "python",
   "file_extension": ".py"
  },
  "kernelspec": {
   "name": "python3",
   "display_name": "Python 3.10.2 64-bit"
  },
  "interpreter": {
   "hash": "081837b0d89a1a11c7e12cfb777b4296fc9d5cdb4add819a1b66bd9acaab463f"
  }
 },
 "nbformat": 4,
 "nbformat_minor": 2
}