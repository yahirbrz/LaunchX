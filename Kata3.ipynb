{
 "cells": [
  {
   "cell_type": "code",
   "execution_count": 4,
   "metadata": {},
   "outputs": [
    {
     "name": "stdout",
     "output_type": "stream",
     "text": [
      "El asteroide se aproxima a una velocidad superior a 25km!\n"
     ]
    }
   ],
   "source": [
    "velocidadAsteroide = 49\n",
    "if velocidadAsteroide > 25:\n",
    "    print(\"El asteroide se aproxima a una velocidad superior a 25 km/s!\")\n",
    "else:\n",
    "    print(\"El asteroide se aproxima a una velocidad inferior a 26 km/s\")\n"
   ]
  },
  {
   "cell_type": "code",
   "execution_count": 5,
   "metadata": {},
   "outputs": [
    {
     "name": "stdout",
     "output_type": "stream",
     "text": [
      "El asteroide no es visible\n"
     ]
    }
   ],
   "source": [
    "velocidadAsteroide = 19\n",
    "if velocidadAsteroide >= 20:\n",
    "    print(\"Un asteroide se dirige a la tierra a una velocidad de \" + str(velocidadAsteroide) + \" km/s!\")\n",
    "elif velocidadAsteroide >= 20:\n",
    "    print(\"Se puede ver el ratro de luz del asteroide!\")\n",
    "else:\n",
    "    print(\"El asteroide no es visible\")"
   ]
  },
  {
   "cell_type": "markdown",
   "metadata": {},
   "source": [
    "# Uso de operadores lógicos"
   ]
  },
  {
   "cell_type": "code",
   "execution_count": 6,
   "metadata": {},
   "outputs": [
    {
     "name": "stdout",
     "output_type": "stream",
     "text": [
      "Se puede ver un ratro de luz de un asteroide!\n"
     ]
    }
   ],
   "source": [
    "velocidadAsteroide = 25\n",
    "dimension = 50\n",
    "\n",
    "if velocidadAsteroide > 25 and dimension > 25:\n",
    "    print(\"Un asteroide de \" + str(dimension) + \" metros se aproxima a la tierra a una velocidad superior a 25 km/2!\")\n",
    "elif velocidadAsteroide >= 20:\n",
    "    print(\"Se puede ver un ratro de luz de un asteroide!\")\n",
    "elif dimension < 25:\n",
    "    print(\"El asteroide se quemará dentro de la atmósfera\")\n",
    "else:\n",
    "    print(\"Ningun riesgo potencial\")"
   ]
  }
 ],
 "metadata": {
  "interpreter": {
   "hash": "081837b0d89a1a11c7e12cfb777b4296fc9d5cdb4add819a1b66bd9acaab463f"
  },
  "kernelspec": {
   "display_name": "Python 3.10.2 64-bit",
   "name": "python3"
  },
  "language_info": {
   "codemirror_mode": {
    "name": "ipython",
    "version": 3
   },
   "file_extension": ".py",
   "mimetype": "text/x-python",
   "name": "python",
   "nbconvert_exporter": "python",
   "pygments_lexer": "ipython3",
   "version": "3.10.2"
  },
  "orig_nbformat": 4
 },
 "nbformat": 4,
 "nbformat_minor": 2
}
