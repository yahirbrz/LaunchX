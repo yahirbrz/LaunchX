{
 "cells": [
  {
   "cell_type": "markdown",
   "metadata": {},
   "source": [
    "## Kata módulo #4\n",
    "### Ejercicio 1"
   ]
  },
  {
   "cell_type": "code",
   "execution_count": 5,
   "metadata": {},
   "outputs": [
    {
     "name": "stdout",
     "output_type": "stream",
     "text": [
      " \n",
      "On average, the Moon moves 4cm away from the Earth every year\n",
      " The highest daylight temperature of the Moon is 127 C\n",
      " \n",
      "On average, the Moon moves 4cm away from the Earth every year\n",
      " The highest daylight temperature of the Moon is 127 Celsius\n"
     ]
    }
   ],
   "source": [
    "text = \"\"\"Interesting facts about the Moon. The Moon is Earth's only satellite. There are several interesting facts about the Moon and how it affects life here on Earth. \n",
    "On average, the Moon moves 4cm away from the Earth every year. This yearly drift is not significant enough to cause immediate effects on Earth. The highest daylight temperature of the Moon is 127 C.\"\"\"\n",
    "\n",
    "#Divide el texto en cada oración\n",
    "oraciones = text.split('.')\n",
    "\n",
    "#palabras clave para busqueda\n",
    "palabrasClave = [\"average\",\"temperature\",\"distance\"]\n",
    "\n",
    "#Crea un bucle para imprimir solo los datos sobre la luna que estén relacionados con las palabras clave definidas anteriormente\n",
    "for oracion in oraciones:\n",
    "    if(palabrasClave[0] in oracion or palabrasClave[1] in oracion or palabrasClave[2] in oracion):\n",
    "        print(oracion)\n",
    "\n",
    "#Actualiza el bicle para cambiar C a Celsius\n",
    "for oracion in oraciones:\n",
    "    if(palabrasClave[0] in oracion or palabrasClave[1] in oracion or palabrasClave[2] in oracion):\n",
    "        print(oracion.replace('C', \"Celsius\"))"
   ]
  },
  {
   "cell_type": "markdown",
   "metadata": {},
   "source": [
    "### Ejercicio 2"
   ]
  },
  {
   "cell_type": "code",
   "execution_count": 23,
   "metadata": {},
   "outputs": [
    {
     "name": "stdout",
     "output_type": "stream",
     "text": [
      "Gravity Facts about Moon\n",
      "------------------------------------------------------------\n",
      "Planet name: Earth \n",
      "Gravity on Moon: 1.6199999999999999 m/s2\n",
      "\n",
      "Gravity Facts about Moon\n",
      "------------------------------------------------------------\n",
      "Planet name: Marte \n",
      "Gravity on Ganímedes: 0.00143 m/s2\n"
     ]
    }
   ],
   "source": [
    "# Datos para trabajar\n",
    "name =  \"Moon\"\n",
    "gravity = 0.00162\n",
    "planet = \"Earth\"\n",
    "\n",
    "# Creamos un título\n",
    "title = f\"Gravity Facts about {name}\"\n",
    "template = f\"{title}\\n{'-'*60}\\nPlanet name: {planet} \\nGravity on {name}: {gravity * 1000} m/s2\"\n",
    "print(template.format(title = title.format(name = name), planet = planet, name = name, gravity = gravity))\n",
    "\n",
    "# segunda luna / nueva plantilla\n",
    "luna = \"Ganímedes\"\n",
    "gravedad = 0.00143\n",
    "planeta = \"Marte\"\n",
    "newTemplate = f\"{title}\\n{'-'*60}\\nPlanet name: {planeta} \\nGravity on {luna}: {gravedad} m/s2\"\n",
    "print(\"\\n\" + newTemplate.format(title = title.format(luna = luna), planeta = planeta, luna = luna, gravedad = str(gravity * 1000)))\n"
   ]
  }
 ],
 "metadata": {
  "interpreter": {
   "hash": "081837b0d89a1a11c7e12cfb777b4296fc9d5cdb4add819a1b66bd9acaab463f"
  },
  "kernelspec": {
   "display_name": "Python 3.10.2 64-bit",
   "name": "python3"
  },
  "language_info": {
   "codemirror_mode": {
    "name": "ipython",
    "version": 3
   },
   "file_extension": ".py",
   "mimetype": "text/x-python",
   "name": "python",
   "nbconvert_exporter": "python",
   "pygments_lexer": "ipython3",
   "version": "3.10.2"
  },
  "orig_nbformat": 4
 },
 "nbformat": 4,
 "nbformat_minor": 2
}
